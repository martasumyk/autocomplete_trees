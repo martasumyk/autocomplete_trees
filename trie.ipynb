{
 "cells": [
  {
   "cell_type": "code",
   "execution_count": 1,
   "metadata": {},
   "outputs": [],
   "source": [
    "'''\n",
    "Main module to create prefix trie.\n",
    "'''\n",
    "import matplotlib.pyplot as plt\n",
    "import networkx as nx"
   ]
  },
  {
   "cell_type": "code",
   "execution_count": 2,
   "metadata": {},
   "outputs": [],
   "source": [
    "class Node:\n",
    "    '''\n",
    "    Creates a class that represents the trie node.\n",
    "    '''\n",
    "    def __init__(self, value: str, parent: \"Node\", is_word = False):\n",
    "        '''\n",
    "        Initializes the node.\n",
    "        '''\n",
    "        # Every node has a value, if it`s empty -> value=''\n",
    "        self.value = value\n",
    "        # Parameter to indicate if the node is a leaf:\n",
    "        self.is_leaf = False\n",
    "\n",
    "        # List of child nodes:\n",
    "        self.children = {}\n",
    "        self.parent = parent\n",
    "        self.is_word = is_word\n",
    "\n",
    "    def add_child(self, child: str) -> None:\n",
    "        \"\"\"add child to node\n",
    "\n",
    "        Args:\n",
    "            child (str): _description_\n",
    "        \"\"\"\n",
    "        new_node = Node(child, self)\n",
    "        self.children[child] = new_node\n",
    "\n",
    "        return new_node\n",
    "    \n",
    "    def __str__(self):\n",
    "        return f\"Node({self.value}). Is word: {self.is_word}. Children: {list(self.children.keys())}\""
   ]
  },
  {
   "cell_type": "code",
   "execution_count": 3,
   "metadata": {},
   "outputs": [],
   "source": [
    "class Trie:\n",
    "    '''\n",
    "    Class to create a trie (prefix tree).\n",
    "    '''\n",
    "    def __init__(self):\n",
    "        '''\n",
    "        Initializes the data.\n",
    "        '''\n",
    "        # The root of the tree is always an empty string:\n",
    "        self.root = Node(\"\", None)\n",
    "\n",
    "    def build_tree(self, path):\n",
    "        '''\n",
    "        Build tree by reading english dict file\n",
    "        '''\n",
    "        with open(path, 'r', encoding='utf-8') as file:\n",
    "            words = file.read().split('\\n')\n",
    "\n",
    "        for word in words:\n",
    "            self.insert_word(word.strip())\n",
    "\n",
    "    def insert_word(self, word: str):\n",
    "        '''\n",
    "        Inserts word into a trie.\n",
    "        '''\n",
    "        node = self.root\n",
    "\n",
    "        for letter in word:\n",
    "            if letter in node.children:\n",
    "                node = node.children[letter]\n",
    "                continue\n",
    "            \n",
    "            node = node.add_child(letter)\n",
    "        node.is_word = True\n",
    "\n",
    "    def delete_word(self):\n",
    "        '''\n",
    "        Deletes the word from the trie.\n",
    "        '''\n",
    "        raise NotImplementedError()\n",
    "\n",
    "\n",
    "    def find_words(self, prefix):\n",
    "        '''\n",
    "        Finds all the words that starts with prefix.\n",
    "        '''\n",
    "        raise NotImplementedError()\n",
    "    \n",
    "    def autocomplete(self, prefix: str, root = None):\n",
    "        node = root or self.root\n",
    "        words = []\n",
    "\n",
    "        if node == self.root:\n",
    "            for letter in prefix:\n",
    "                node = node.children[letter]\n",
    "\n",
    "        for child in node.children:\n",
    "            node_child = node.children[child]\n",
    "\n",
    "            if node_child.is_word:\n",
    "                words.append(prefix + node_child.value)\n",
    "\n",
    "            words += [prefix + i for i in self.autocomplete(node_child.value, node_child)]\n",
    "\n",
    "        return words\n"
   ]
  },
  {
   "cell_type": "code",
   "execution_count": 4,
   "metadata": {},
   "outputs": [],
   "source": [
    "trie = Trie()\n",
    "trie.build_tree('words_eng.txt')"
   ]
  },
  {
   "cell_type": "code",
   "execution_count": 8,
   "metadata": {},
   "outputs": [
    {
     "name": "stdout",
     "output_type": "stream",
     "text": [
      "['banaba', 'banago', 'banagos', 'banak', 'banakite', 'banal', 'banality', 'banalities', 'banalize', 'banally', 'banalness', 'banana', 'bananaquit', 'bananas', \"banana's\", 'bananist', 'bananivorous', 'banatite', 'banausic', 'banc', 'banca', 'bancal', 'bancales', 'bancha', 'banchi', 'bancos', 'bancus', 'band', 'bandage', 'bandaged', 'bandager', 'bandagers', 'bandages', 'bandaging', 'bandagist', 'bandaid', 'bandaite', 'bandaka', 'bandala', 'bandalore', 'bandanaed', 'bandanas', 'bandanna', 'bandannaed', 'bandannas', 'bandar', 'bandarlog', 'bandbox', 'bandboxes', 'bandboxy', 'bandboxical', 'bandcase', 'bandcutter', 'bande', 'bandeau', 'bandeaus', 'bandeaux', 'banded', 'bandel', 'bandelet', 'bandelette', 'bandeng', 'banderilla', 'banderillas', 'banderillero', 'banderilleros', 'banderlog', 'banderol', 'banderole', 'banderoled', 'banderoles', 'banderoling', 'banderols', 'banders', 'bandersnatch', 'bandfile', 'bandfiled', 'bandfiling', 'bandfish', 'band-gala', 'band-sawyer', 'band-sawing', 'band-shaped', 'band-tailed', 'bandgap', 'bandh', 'bandhava', 'bandhook', 'bandhu', 'bandi', 'bandicoy', 'bandicoot', 'bandicoots', 'bandido', 'bandidos', 'bandie', 'bandied', 'bandies', 'bandikai', 'bandiness', 'banding', 'bandit', 'banditism', 'banditry', 'banditries', 'bandits', \"bandit's\", 'banditti', 'bandy', 'bandyball', 'bandy-bandy', 'bandy-legged', 'bandying', 'bandylegged', 'bandyman', 'bandle', 'bandleader', 'bandless', 'bandlessly', 'bandlessness', 'bandlet', 'bandlimit', 'bandlimited', 'bandlimiting', 'bandlimits', 'bandman', 'bandmaster', 'bandmasters', 'bando', 'bandobust', 'bandog', 'bandogs', 'bandoleer', 'bandoleered', 'bandoleers', 'bandolerismo', 'bandolero', 'bandoleros', 'bandolier', 'bandoliered', 'bandoline', 'bandonion', 'bandora', 'bandoras', 'bandore', 'bandores', 'bandos', 'bandpass', 'bandrol', 'bands', 'bandsaw', 'bandsawed', 'bandsawing', 'bandsawn', 'bandsman', 'bandsmen', 'bandspreading', 'bandstand', 'bandstands', \"bandstand's\", 'bandster', 'bandstop', 'bandstring', 'bandura', 'bandurria', 'bandurrias', 'bandwagon', 'bandwagons', \"bandwagon's\", 'bandwidth', 'bandwidths', 'bandwork', 'bandworm', 'bane', 'baneberry', 'baneberries', 'baned', 'baneful', 'banefully', 'banefulness', 'banes', 'banewort', 'banga', 'bangalay', 'bangalow', 'bang-bang', 'bang-tail', 'bang-up', 'bangboard', 'bange', 'banged', 'banged-up', 'banger', 'bangers', 'banghy', 'bangy', 'bangiaceous', 'banging', 'bangkoks', 'bangle', 'bangled', 'bangles', \"bangle's\", 'bangling', 'bangos', 'bangster', 'bangtail', 'bangtailed', 'bangtails', 'bangup', 'bani', 'bania', 'banian', 'banians', 'banig', 'baniya', 'banilad', 'baning', 'banish', 'banished', 'banisher', 'banishers', 'banishes', 'banishing', 'banishment', 'banishments', 'banister', 'banister-back', 'banisterine', 'banisters', \"banister's\", 'baniwa', 'banya', 'banyan', 'banyans', 'banjara', 'banjo', 'banjoes', 'banjoist', 'banjoists', 'banjo-picker', 'banjo-uke', 'banjo-ukulele', 'banjo-zither', 'banjore', 'banjorine', 'banjos', \"banjo's\", 'banjuke', 'banjulele', 'bankable', 'bank-bill', 'bank-book', 'bank-full', 'bank-high', 'bank-note', 'bank-riding', 'bank-side', 'bank-sided', 'bank-wound', 'bankbook', 'bankbooks', 'bankcard', 'bankcards', 'banked', 'banker', 'bankera', 'bankerdom', 'bankeress', 'banker-mark', 'banker-out', 'bankers', 'banket', 'bankfull', 'banking-house', 'bankings', 'bankman', 'bankmen', 'banknote', 'banknotes', 'bankrider', 'bankroll', 'bankrolled', 'bankroller', 'bankrolling', 'bankrolls', 'bankrupcy', 'bankrupt', 'bankruptcy', \"bankruptcy's\", 'bankruptcies', 'bankrupted', 'bankrupting', 'bankruptism', 'bankruptly', 'bankruptlike', 'bankrupts', 'bankruptship', 'bankrupture', 'bankshall', 'banksias', 'banksides', 'banksman', 'banksmen', 'bankweed', 'banlieu', 'banlieue', 'bannack', 'bannat', 'banned', 'bannered', 'bannerer', 'banneret', 'bannerets', 'bannerette', 'banner-fashioned', 'banner-shaped', 'bannerfish', 'bannerless', 'bannerlike', 'bannerline', 'bannermen', 'bannerol', 'bannerole', 'bannerols', 'banners', \"banner's\", 'bannerwise', 'bannet', 'bannets', 'bannimus', 'bannisters', 'bannition', 'bannocks', 'banns', 'bannut', 'banovina', 'banque', 'banquet', 'banqueted', 'banqueteer', 'banqueteering', 'banqueter', 'banqueters', 'banqueting', 'banquetings', 'banquets', 'banquette', 'banquettes', 'bans', 'bansalague', 'bansela', 'banshee', 'banshees', \"banshee's\", 'banshie', 'banshies', 'banstickle', \"ban's\", 'bant', 'bantay', 'bantayan', 'bantamize', 'bantams', 'bantamweight', 'bantamweights', 'banteng', 'banter', 'bantered', 'banterer', 'banterers', 'bantery', 'bantering', 'banteringly', 'banters', 'banty', 'banties', 'bantin', 'bantingize', 'bantings', 'bantling', 'bantlings', 'banuyo', 'banus', 'banxring', 'banzai', 'banzais']\n"
     ]
    }
   ],
   "source": [
    "print(trie.autocomplete('ban'))"
   ]
  },
  {
   "cell_type": "code",
   "execution_count": null,
   "metadata": {},
   "outputs": [],
   "source": []
  }
 ],
 "metadata": {
  "kernelspec": {
   "display_name": "Python 3",
   "language": "python",
   "name": "python3"
  },
  "language_info": {
   "codemirror_mode": {
    "name": "ipython",
    "version": 3
   },
   "file_extension": ".py",
   "mimetype": "text/x-python",
   "name": "python",
   "nbconvert_exporter": "python",
   "pygments_lexer": "ipython3",
   "version": "3.10.11"
  },
  "orig_nbformat": 4
 },
 "nbformat": 4,
 "nbformat_minor": 2
}
