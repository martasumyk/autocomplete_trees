{
 "cells": [
  {
   "cell_type": "code",
   "execution_count": 7,
   "metadata": {},
   "outputs": [],
   "source": [
    "'''\n",
    "Main module to create prefix trie.\n",
    "'''\n",
    "import matplotlib.pyplot as plt\n",
    "import networkx as nx"
   ]
  },
  {
   "cell_type": "code",
   "execution_count": 8,
   "metadata": {},
   "outputs": [],
   "source": [
    "class Node:\n",
    "    '''\n",
    "    Creates a class that represents the trie node.\n",
    "    '''\n",
    "    def __init__(self, value: str, parent: \"Node\", is_word = False):\n",
    "        '''\n",
    "        Initializes the node.\n",
    "        '''\n",
    "        # Every node has a value, if it`s empty -> value=''\n",
    "        self.value = value\n",
    "        # Parameter to indicate if the node is a leaf:\n",
    "        self.is_leaf = False\n",
    "\n",
    "        # List of child nodes:\n",
    "        self.children = {}\n",
    "        self.parent = parent\n",
    "        self.is_word = is_word\n",
    "\n",
    "    def add_child(self, child: str) -> None:\n",
    "        \"\"\"add child to node\n",
    "\n",
    "        Args:\n",
    "            child (str): _description_\n",
    "        \"\"\"\n",
    "        new_node = Node(child, self)\n",
    "        self.children[child] = new_node\n",
    "\n",
    "        return new_node\n",
    "    \n",
    "    def __str__(self):\n",
    "        return f\"Node({self.value}). Is word: {self.is_word}. Children: {list(self.children.keys())}\""
   ]
  },
  {
   "cell_type": "code",
   "execution_count": 41,
   "metadata": {},
   "outputs": [],
   "source": [
    "class Trie:\n",
    "    '''\n",
    "    Class to create a trie (prefix tree).\n",
    "    '''\n",
    "    def __init__(self):\n",
    "        '''\n",
    "        Initializes the data.\n",
    "        '''\n",
    "        # The root of the tree is always an empty string:\n",
    "        self.root = Node(\"\", None)\n",
    "\n",
    "    def build_tree(self, path):\n",
    "        '''\n",
    "        Build tree by reading english dict file\n",
    "        '''\n",
    "        with open(path, 'r', encoding='utf-8') as file:\n",
    "            words = file.read().split('\\n')\n",
    "\n",
    "        for word in words:\n",
    "            self.insert_word(word.strip())\n",
    "\n",
    "    def insert_word(self, word: str):\n",
    "        '''\n",
    "        Inserts word into a trie.\n",
    "        '''\n",
    "        node = self.root\n",
    "\n",
    "        for letter in word:\n",
    "            if letter in node.children:\n",
    "                node = node.children[letter]\n",
    "                continue\n",
    "            \n",
    "            node = node.add_child(letter)\n",
    "        node.is_word = True\n",
    "\n",
    "    def delete_word(self):\n",
    "        '''\n",
    "        Deletes the word from the trie.\n",
    "        '''\n",
    "        raise NotImplementedError()\n",
    "\n",
    "\n",
    "    def find_words(self, prefix):\n",
    "        '''\n",
    "        Finds all the words that starts with prefix.\n",
    "        '''\n",
    "        raise NotImplementedError()\n",
    "    \n",
    "    def autocomplete(self, prefix: str, root = None):\n",
    "        node = root or self.root\n",
    "        words = []\n",
    "\n",
    "        if node == self.root:\n",
    "            for letter in prefix:\n",
    "                if letter not in node.children:\n",
    "                    # Unknown word\n",
    "                    return\n",
    "\n",
    "                node = node.children[letter]\n",
    "\n",
    "            if node.is_word:\n",
    "                words.append(prefix)\n",
    "\n",
    "        for child in node.children:\n",
    "            node_child = node.children[child]\n",
    "\n",
    "            if node_child.is_word:\n",
    "                words.append(prefix + node_child.value)\n",
    "\n",
    "            words += [prefix + i for i in self.autocomplete(node_child.value, node_child)]\n",
    "\n",
    "        return words\n"
   ]
  },
  {
   "cell_type": "code",
   "execution_count": 42,
   "metadata": {},
   "outputs": [],
   "source": [
    "trie = Trie()\n",
    "trie.build_tree('words.txt')"
   ]
  },
  {
   "cell_type": "code",
   "execution_count": 44,
   "metadata": {},
   "outputs": [
    {
     "data": {
      "text/plain": [
       "['журавлина', 'журавлиний', 'журавлинний', 'журавлинник', 'журавлиновий']"
      ]
     },
     "execution_count": 44,
     "metadata": {},
     "output_type": "execute_result"
    }
   ],
   "source": [
    "trie.autocomplete('журавлин')"
   ]
  }
 ],
 "metadata": {
  "kernelspec": {
   "display_name": "Python 3",
   "language": "python",
   "name": "python3"
  },
  "language_info": {
   "codemirror_mode": {
    "name": "ipython",
    "version": 3
   },
   "file_extension": ".py",
   "mimetype": "text/x-python",
   "name": "python",
   "nbconvert_exporter": "python",
   "pygments_lexer": "ipython3",
   "version": "3.11.2"
  },
  "orig_nbformat": 4
 },
 "nbformat": 4,
 "nbformat_minor": 2
}
